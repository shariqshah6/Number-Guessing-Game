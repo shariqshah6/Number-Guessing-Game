{
 "cells": [
  {
   "cell_type": "code",
   "execution_count": null,
   "id": "b183e41b",
   "metadata": {},
   "outputs": [],
   "source": [
    "import random\n",
    "\n",
    "number = random.randint(1, 20)\n",
    "attempts = 0\n",
    "\n",
    "while True:\n",
    "    guess = int(input(\"Guess a number (1-20): \"))\n",
    "    attempts += 1\n",
    "\n",
    "    if guess == number:\n",
    "        print(f\"🎉 Correct! You guessed it in {attempts} tries.\")\n",
    "        break\n",
    "    elif guess < number:\n",
    "        print(\"Too low!\")\n",
    "    else:\n",
    "        print(\"Too high!\")\n"
   ]
  },
  {
   "cell_type": "code",
   "execution_count": null,
   "id": "ebfd584f",
   "metadata": {},
   "outputs": [],
   "source": []
  }
 ],
 "metadata": {
  "language_info": {
   "name": "python"
  }
 },
 "nbformat": 4,
 "nbformat_minor": 5
}
